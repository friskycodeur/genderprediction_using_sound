{
 "cells": [
  {
   "cell_type": "markdown",
   "metadata": {},
   "source": [
    "<h1 align='center'> Gender Prediction using Sound </h1>"
   ]
  },
  {
   "cell_type": "markdown",
   "metadata": {},
   "source": [
    "<h3> Installing the required libraries </h3>\n",
    "<br>\n",
    "<ls>Let's first download the Fuzzy library of python</ls>"
   ]
  },
  {
   "cell_type": "code",
   "execution_count": null,
   "metadata": {},
   "outputs": [],
   "source": [
    "!pip install Fuzzy"
   ]
  },
  {
   "cell_type": "markdown",
   "metadata": {},
   "source": [
    "Now let's explore Fuzzy a bit !"
   ]
  },
  {
   "cell_type": "code",
   "execution_count": 3,
   "metadata": {},
   "outputs": [
    {
     "name": "stdout",
     "output_type": "stream",
     "text": [
      "CALAR\n",
      "CALAR\n"
     ]
    }
   ],
   "source": [
    "import fuzzy\n",
    "print(fuzzy.nysiis('colour'))\n",
    "print(fuzzy.nysiis('color'))"
   ]
  },
  {
   "cell_type": "markdown",
   "metadata": {},
   "source": [
    "<br>If you don't have Pandas , matplotlib or Numpy then install them because we will be using them in this project."
   ]
  },
  {
   "cell_type": "markdown",
   "metadata": {},
   "source": [
    "<h4> Are you ready to start this project ? \n",
    "Let's start it then , step by step ! </h4>"
   ]
  },
  {
   "cell_type": "markdown",
   "metadata": {},
   "source": [
    "<h3> Step 1 : </h3>\n",
    "<br>\n",
    "Reading the data in the csv file and spliting and then saving the first name of the authors"
   ]
  },
  {
   "cell_type": "code",
   "execution_count": 4,
   "metadata": {},
   "outputs": [
    {
     "data": {
      "text/html": [
       "<div>\n",
       "<style scoped>\n",
       "    .dataframe tbody tr th:only-of-type {\n",
       "        vertical-align: middle;\n",
       "    }\n",
       "\n",
       "    .dataframe tbody tr th {\n",
       "        vertical-align: top;\n",
       "    }\n",
       "\n",
       "    .dataframe thead th {\n",
       "        text-align: right;\n",
       "    }\n",
       "</style>\n",
       "<table border=\"1\" class=\"dataframe\">\n",
       "  <thead>\n",
       "    <tr style=\"text-align: right;\">\n",
       "      <th></th>\n",
       "      <th>Year</th>\n",
       "      <th>Book Title</th>\n",
       "      <th>Author</th>\n",
       "      <th>Besteller this year</th>\n",
       "      <th>first_name</th>\n",
       "    </tr>\n",
       "  </thead>\n",
       "  <tbody>\n",
       "    <tr>\n",
       "      <th>0</th>\n",
       "      <td>2017</td>\n",
       "      <td>DRAGONS LOVE TACOS</td>\n",
       "      <td>Adam Rubin</td>\n",
       "      <td>49</td>\n",
       "      <td>Adam</td>\n",
       "    </tr>\n",
       "    <tr>\n",
       "      <th>1</th>\n",
       "      <td>2017</td>\n",
       "      <td>THE WONDERFUL THINGS YOU WILL BE</td>\n",
       "      <td>Emily Winfield Martin</td>\n",
       "      <td>48</td>\n",
       "      <td>Emily</td>\n",
       "    </tr>\n",
       "    <tr>\n",
       "      <th>2</th>\n",
       "      <td>2017</td>\n",
       "      <td>THE DAY THE CRAYONS QUIT</td>\n",
       "      <td>Drew Daywalt</td>\n",
       "      <td>44</td>\n",
       "      <td>Drew</td>\n",
       "    </tr>\n",
       "    <tr>\n",
       "      <th>3</th>\n",
       "      <td>2017</td>\n",
       "      <td>ROSIE REVERE, ENGINEER</td>\n",
       "      <td>Andrea Beaty</td>\n",
       "      <td>38</td>\n",
       "      <td>Andrea</td>\n",
       "    </tr>\n",
       "    <tr>\n",
       "      <th>4</th>\n",
       "      <td>2017</td>\n",
       "      <td>ADA TWIST, SCIENTIST</td>\n",
       "      <td>Andrea Beaty</td>\n",
       "      <td>28</td>\n",
       "      <td>Andrea</td>\n",
       "    </tr>\n",
       "  </tbody>\n",
       "</table>\n",
       "</div>"
      ],
      "text/plain": [
       "   Year                        Book Title                 Author  \\\n",
       "0  2017                DRAGONS LOVE TACOS             Adam Rubin   \n",
       "1  2017  THE WONDERFUL THINGS YOU WILL BE  Emily Winfield Martin   \n",
       "2  2017          THE DAY THE CRAYONS QUIT           Drew Daywalt   \n",
       "3  2017            ROSIE REVERE, ENGINEER           Andrea Beaty   \n",
       "4  2017              ADA TWIST, SCIENTIST           Andrea Beaty   \n",
       "\n",
       "   Besteller this year first_name  \n",
       "0                   49       Adam  \n",
       "1                   48      Emily  \n",
       "2                   44       Drew  \n",
       "3                   38     Andrea  \n",
       "4                   28     Andrea  "
      ]
     },
     "execution_count": 4,
     "metadata": {},
     "output_type": "execute_result"
    }
   ],
   "source": [
    "import pandas as pd\n",
    "# Readinf the csv file (dataset) with delimiter set as ;\n",
    "author_df=pd.read_csv(\"nytkids_yearly.csv\",delimiter=';')\n",
    "\n",
    "# Looping over author_df to get the author's name and save it in first_name\n",
    "\n",
    "first_name=[]\n",
    "for name in author_df['Author']:\n",
    "    first_name.append(name.split()[0])\n",
    "\n",
    "#Adding this first name as a column in author_df\n",
    "\n",
    "author_df['first_name']=first_name\n",
    "\n",
    "#Checking the first few rows of author_df\n",
    "author_df.head()"
   ]
  },
  {
   "cell_type": "markdown",
   "metadata": {},
   "source": [
    "<br> Now , let's use the numpy and Fuzzy libraries to make a list of nysiis_names by using the first names of the Authors , \n",
    "Ready? Let's go !"
   ]
  },
  {
   "cell_type": "markdown",
   "metadata": {},
   "source": [
    "<h3> Step 2: </h3>\n",
    "<br>\n",
    "    Generating the nysiis names using numpy and fuzzy library"
   ]
  },
  {
   "cell_type": "code",
   "execution_count": 5,
   "metadata": {},
   "outputs": [
    {
     "name": "stdout",
     "output_type": "stream",
     "text": [
      "   Year                        Book Title                 Author  \\\n",
      "0  2017                DRAGONS LOVE TACOS             Adam Rubin   \n",
      "1  2017  THE WONDERFUL THINGS YOU WILL BE  Emily Winfield Martin   \n",
      "2  2017          THE DAY THE CRAYONS QUIT           Drew Daywalt   \n",
      "3  2017            ROSIE REVERE, ENGINEER           Andrea Beaty   \n",
      "4  2017              ADA TWIST, SCIENTIST           Andrea Beaty   \n",
      "\n",
      "   Besteller this year first_name nysiis_name  \n",
      "0                   49       Adam        ADAN  \n",
      "1                   48      Emily       ENALY  \n",
      "2                   44       Drew          DR  \n",
      "3                   38     Andrea        ANDR  \n",
      "4                   28     Andrea        ANDR  \n",
      "\n",
      " \n",
      " Difference between unique nysiis_names and the firstnames is:  25\n"
     ]
    }
   ],
   "source": [
    "import numpy as np\n",
    "\n",
    "#Looping through author's name to create a nysiis(fuzzy) equivalent\n",
    "\n",
    "nysiis_name=[]\n",
    "for name in first_name:\n",
    "    nysiis_name.append(fuzzy.nysiis(name))\n",
    "    \n",
    "#Adding this nysiis_name as a column in the dataset\n",
    "\n",
    "author_df['nysiis_name']=nysiis_name\n",
    "\n",
    "print(author_df.head())\n",
    "\n",
    "#Printing out the difference between the first_name and the unique nysiis_name:\n",
    "print(\"\\n \\n Difference between unique nysiis_names and the firstnames is: \",len(np.unique(first_name))-len(np.unique(nysiis_name)))\n",
    "    "
   ]
  },
  {
   "cell_type": "markdown",
   "metadata": {},
   "source": [
    "<h3> Step 3 </h3>\n",
    "<br>\n",
    "Now let's use the babynames dataset we have and we will categorize them to genders as per the given data in the dataset"
   ]
  },
  {
   "cell_type": "code",
   "execution_count": 6,
   "metadata": {},
   "outputs": [
    {
     "data": {
      "text/html": [
       "<div>\n",
       "<style scoped>\n",
       "    .dataframe tbody tr th:only-of-type {\n",
       "        vertical-align: middle;\n",
       "    }\n",
       "\n",
       "    .dataframe tbody tr th {\n",
       "        vertical-align: top;\n",
       "    }\n",
       "\n",
       "    .dataframe thead th {\n",
       "        text-align: right;\n",
       "    }\n",
       "</style>\n",
       "<table border=\"1\" class=\"dataframe\">\n",
       "  <thead>\n",
       "    <tr style=\"text-align: right;\">\n",
       "      <th></th>\n",
       "      <th>babynysiis</th>\n",
       "      <th>perc_female</th>\n",
       "      <th>perc_male</th>\n",
       "      <th>gender</th>\n",
       "    </tr>\n",
       "  </thead>\n",
       "  <tbody>\n",
       "    <tr>\n",
       "      <th>0</th>\n",
       "      <td>NaN</td>\n",
       "      <td>62.50</td>\n",
       "      <td>37.50</td>\n",
       "      <td>F</td>\n",
       "    </tr>\n",
       "    <tr>\n",
       "      <th>1</th>\n",
       "      <td>RAX</td>\n",
       "      <td>63.64</td>\n",
       "      <td>36.36</td>\n",
       "      <td>F</td>\n",
       "    </tr>\n",
       "    <tr>\n",
       "      <th>2</th>\n",
       "      <td>ESAR</td>\n",
       "      <td>44.44</td>\n",
       "      <td>55.56</td>\n",
       "      <td>M</td>\n",
       "    </tr>\n",
       "    <tr>\n",
       "      <th>3</th>\n",
       "      <td>DJANG</td>\n",
       "      <td>0.00</td>\n",
       "      <td>100.00</td>\n",
       "      <td>M</td>\n",
       "    </tr>\n",
       "    <tr>\n",
       "      <th>4</th>\n",
       "      <td>PARCAL</td>\n",
       "      <td>25.00</td>\n",
       "      <td>75.00</td>\n",
       "      <td>M</td>\n",
       "    </tr>\n",
       "  </tbody>\n",
       "</table>\n",
       "</div>"
      ],
      "text/plain": [
       "  babynysiis  perc_female  perc_male gender\n",
       "0        NaN        62.50      37.50      F\n",
       "1        RAX        63.64      36.36      F\n",
       "2       ESAR        44.44      55.56      M\n",
       "3      DJANG         0.00     100.00      M\n",
       "4     PARCAL        25.00      75.00      M"
      ]
     },
     "execution_count": 6,
     "metadata": {},
     "output_type": "execute_result"
    }
   ],
   "source": [
    "#Reading the dataset of the babynames with a delimiter ;\n",
    "babies_df=pd.read_csv('babynames_nysiis.csv',delimiter=';')\n",
    "\n",
    "#Looping over the babies_df and filling up the gender\n",
    "\n",
    "gender=[]\n",
    "\n",
    "for i in babies_df.index:\n",
    "    if(babies_df['perc_male'][i]==babies_df['perc_female'][i]):\n",
    "        gender.append('N')\n",
    "    elif(babies_df['perc_male'][i]>babies_df['perc_female'][i]):\n",
    "        gender.append('M')\n",
    "    else:\n",
    "        gender.append('F')\n",
    "        \n",
    "# addind the gender list as a column in the dataset\n",
    "babies_df['gender']=gender\n",
    "\n",
    "#printing the first few rows of the babies_df\n",
    "babies_df.head()"
   ]
  },
  {
   "cell_type": "markdown",
   "metadata": {},
   "source": [
    "<h3>Step 4:</h3>\n",
    "    <br>\n",
    "    Now let's use predict the gender of the authors taking the data from babies dataset as reference"
   ]
  },
  {
   "cell_type": "code",
   "execution_count": 7,
   "metadata": {},
   "outputs": [
    {
     "data": {
      "text/html": [
       "<div>\n",
       "<style scoped>\n",
       "    .dataframe tbody tr th:only-of-type {\n",
       "        vertical-align: middle;\n",
       "    }\n",
       "\n",
       "    .dataframe tbody tr th {\n",
       "        vertical-align: top;\n",
       "    }\n",
       "\n",
       "    .dataframe thead th {\n",
       "        text-align: right;\n",
       "    }\n",
       "</style>\n",
       "<table border=\"1\" class=\"dataframe\">\n",
       "  <thead>\n",
       "    <tr style=\"text-align: right;\">\n",
       "      <th></th>\n",
       "      <th>Year</th>\n",
       "      <th>Book Title</th>\n",
       "      <th>Author</th>\n",
       "      <th>Besteller this year</th>\n",
       "      <th>first_name</th>\n",
       "      <th>nysiis_name</th>\n",
       "      <th>gender</th>\n",
       "    </tr>\n",
       "  </thead>\n",
       "  <tbody>\n",
       "    <tr>\n",
       "      <th>0</th>\n",
       "      <td>2017</td>\n",
       "      <td>DRAGONS LOVE TACOS</td>\n",
       "      <td>Adam Rubin</td>\n",
       "      <td>49</td>\n",
       "      <td>Adam</td>\n",
       "      <td>ADAN</td>\n",
       "      <td>M</td>\n",
       "    </tr>\n",
       "    <tr>\n",
       "      <th>1</th>\n",
       "      <td>2017</td>\n",
       "      <td>THE WONDERFUL THINGS YOU WILL BE</td>\n",
       "      <td>Emily Winfield Martin</td>\n",
       "      <td>48</td>\n",
       "      <td>Emily</td>\n",
       "      <td>ENALY</td>\n",
       "      <td>F</td>\n",
       "    </tr>\n",
       "    <tr>\n",
       "      <th>2</th>\n",
       "      <td>2017</td>\n",
       "      <td>THE DAY THE CRAYONS QUIT</td>\n",
       "      <td>Drew Daywalt</td>\n",
       "      <td>44</td>\n",
       "      <td>Drew</td>\n",
       "      <td>DR</td>\n",
       "      <td>M</td>\n",
       "    </tr>\n",
       "    <tr>\n",
       "      <th>3</th>\n",
       "      <td>2017</td>\n",
       "      <td>ROSIE REVERE, ENGINEER</td>\n",
       "      <td>Andrea Beaty</td>\n",
       "      <td>38</td>\n",
       "      <td>Andrea</td>\n",
       "      <td>ANDR</td>\n",
       "      <td>M</td>\n",
       "    </tr>\n",
       "    <tr>\n",
       "      <th>4</th>\n",
       "      <td>2017</td>\n",
       "      <td>ADA TWIST, SCIENTIST</td>\n",
       "      <td>Andrea Beaty</td>\n",
       "      <td>28</td>\n",
       "      <td>Andrea</td>\n",
       "      <td>ANDR</td>\n",
       "      <td>M</td>\n",
       "    </tr>\n",
       "  </tbody>\n",
       "</table>\n",
       "</div>"
      ],
      "text/plain": [
       "   Year                        Book Title                 Author  \\\n",
       "0  2017                DRAGONS LOVE TACOS             Adam Rubin   \n",
       "1  2017  THE WONDERFUL THINGS YOU WILL BE  Emily Winfield Martin   \n",
       "2  2017          THE DAY THE CRAYONS QUIT           Drew Daywalt   \n",
       "3  2017            ROSIE REVERE, ENGINEER           Andrea Beaty   \n",
       "4  2017              ADA TWIST, SCIENTIST           Andrea Beaty   \n",
       "\n",
       "   Besteller this year first_name nysiis_name gender  \n",
       "0                   49       Adam        ADAN      M  \n",
       "1                   48      Emily       ENALY      F  \n",
       "2                   44       Drew          DR      M  \n",
       "3                   38     Andrea        ANDR      M  \n",
       "4                   28     Andrea        ANDR      M  "
      ]
     },
     "execution_count": 7,
     "metadata": {},
     "output_type": "execute_result"
    }
   ],
   "source": [
    "# defining a function to locate the presence of a name in the list\n",
    "def locate_in_list(a_list,element):\n",
    "    loc_of_name=a_list.index(element) if element in a_list else -1\n",
    "    return (loc_of_name)\n",
    "\n",
    "# Making a list of the gender of the author using their nysiis_name\n",
    "author_gender=[]\n",
    "for name in author_df['nysiis_name']:\n",
    "    index=locate_in_list(list(babies_df['babynysiis']),name)\n",
    "    if index > -1:\n",
    "        author_gender.append(babies_df.loc[index]['gender'])\n",
    "    else:\n",
    "        author_gender.append('Unknown')\n",
    "        \n",
    "#Adding this as a column in the dataset\n",
    "author_df['gender']=author_gender\n",
    "\n",
    "#Counting the author's gender\n",
    "author_df['gender'].count()\n",
    "\n",
    "#Printing the first few rows of the dataset\n",
    "author_df.head()"
   ]
  },
  {
   "cell_type": "markdown",
   "metadata": {},
   "source": [
    "<br>Although we are quite done , but let's make the data more presentable and ordered , why don't we categorize the data by years ! "
   ]
  },
  {
   "cell_type": "code",
   "execution_count": 8,
   "metadata": {},
   "outputs": [
    {
     "name": "stdout",
     "output_type": "stream",
     "text": [
      "[15, 45, 48, 51, 46, 51, 34, 30, 32, 43]\n",
      "[8, 19, 27, 21, 21, 11, 21, 18, 25, 20]\n",
      "[2, 3, 1, 2, 2, 3, 2, 0, 1, 1]\n",
      "         2008  2009  2010  2011  2012  2013  2014  2015  2016  2017\n",
      "Males       8    19    27    21    21    11    21    18    25    20\n",
      "Females    15    45    48    51    46    51    34    30    32    43\n",
      "Unknown     2     3     1     2     2     3     2     0     1     1\n"
     ]
    }
   ],
   "source": [
    "#Let's Create a list of (unique) years , sorted in ascending order \n",
    "years=author_df['Year'].sort_values().unique()\n",
    "\n",
    "#Initializing the lists of genders w.r.t year\n",
    "\n",
    "males_by_yr=[]\n",
    "females_by_yr=[]\n",
    "unknown_by_yr=[]\n",
    "\n",
    "for year in years:\n",
    "    females_by_yr.append(len(author_df[(author_df['gender']=='F') & (author_df['Year']==year)]))\n",
    "    males_by_yr.append(len(author_df[(author_df['gender']=='M') & (author_df['Year']==year)]))\n",
    "    unknown_by_yr.append(len(author_df[(author_df['gender']!='F') & (author_df['gender']!='M') & (author_df['Year']==year)]))\n",
    "\n",
    "print(females_by_yr)\n",
    "print(males_by_yr)\n",
    "print(unknown_by_yr)\n",
    "\n",
    "data=np.array([males_by_yr,females_by_yr,unknown_by_yr])\n",
    "headers=['Males','Females','Unknown']\n",
    "print(pd.DataFrame(data,headers,years))"
   ]
  },
  {
   "cell_type": "markdown",
   "metadata": {},
   "source": [
    "<h4> What about the 'unknown' gender authors? </h4>  "
   ]
  },
  {
   "cell_type": "markdown",
   "metadata": {},
   "source": [
    "Our dataset is based on US , so one possible reason for \"unknown\" genders might be that the genders are not from the U.S , i.e they are foreign authors.\n",
    "To check it out ourself let us plot a bar chart to see how many of the authors are foreign authors."
   ]
  },
  {
   "cell_type": "code",
   "execution_count": 10,
   "metadata": {},
   "outputs": [
    {
     "data": {
      "text/plain": [
       "Text(0, 0.5, 'Number of Foreign Authors')"
      ]
     },
     "execution_count": 10,
     "metadata": {},
     "output_type": "execute_result"
    },
    {
     "data": {
      "image/png": "[encoded data removed]",
      "text/plain": [
       "<Figure size 432x288 with 1 Axes>"
      ]
     },
     "metadata": {
      "needs_background": "light"
     },
     "output_type": "display_data"
    }
   ],
   "source": [
    "import matplotlib.pyplot as plt \n",
    "\n",
    "#Let's first make the plot appear \n",
    "\n",
    "%matplotlib inline\n",
    "\n",
    "#Let's plot the bar chart now \n",
    "plt.bar(years,unknown_by_yr)\n",
    "\n",
    "#We can also set a title and axes labels just to make the plot look a little good ;)\n",
    "\n",
    "plt.title('Foreign Authors by Year')\n",
    "plt.xlabel('Year')\n",
    "plt.ylabel('Number of Foreign Authors')\n"
   ]
  },
  {
   "cell_type": "code",
   "execution_count": null,
   "metadata": {},
   "outputs": [],
   "source": []
  }
 ],
 "metadata": {
  "kernelspec": {
   "display_name": "Python 3",
   "language": "python",
   "name": "python3"
  },
  "language_info": {
   "codemirror_mode": {
    "name": "ipython",
    "version": 3
   },
   "file_extension": ".py",
   "mimetype": "text/x-python",
   "name": "python",
   "nbconvert_exporter": "python",
   "pygments_lexer": "ipython3",
   "version": "3.8.3"
  }
 },
 "nbformat": 4,
 "nbformat_minor": 4
}
